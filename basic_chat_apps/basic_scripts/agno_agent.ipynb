{
 "cells": [
  {
   "cell_type": "markdown",
   "id": "eff909a8-bb5c-418c-8dff-92bb0dd4eebb",
   "metadata": {},
   "source": [
    "# Agno Agent Demo\n",
    "\n",
    "This script demonstrates how to create an Agno agent that uses a custom function \n",
    "to retrieve context before responding.  In this example, the model will retrieve\n",
    "current weather conditions in a location and use that information to recommend \n",
    "clothing.\n",
    "\n",
    "The weather API used here is from https://www.weatherapi.com \n"
   ]
  },
  {
   "cell_type": "code",
   "execution_count": 1,
   "id": "a983470a-5dd8-48e0-aa75-991fc579b7f5",
   "metadata": {},
   "outputs": [],
   "source": [
    "# SPDX-FileCopyrightText: (c) 2025 Tenstorrent AI ULC\n",
    "#\n",
    "# SPDX-License-Identifier: Apache-2.0\n",
    "import os\n",
    "\n",
    "from agno.agent import Agent\n",
    "from agno.models.openai import OpenAILike\n",
    "from agno.tools import tool\n",
    "import requests"
   ]
  },
  {
   "cell_type": "markdown",
   "id": "bcf8d6af-c23b-4671-bcb9-9206b2365b1c",
   "metadata": {},
   "source": [
    "### Define function to get current weather conditions"
   ]
  },
  {
   "cell_type": "code",
   "execution_count": 2,
   "id": "b60f0288-375c-4c1b-8e54-987faf672da3",
   "metadata": {},
   "outputs": [],
   "source": [
    "@tool(show_result=True)\n",
    "def fetch_weather(location):\n",
    "    params = {\n",
    "        \"q\": location,\n",
    "        \"key\": os.environ[\"WEATHER_API_KEY\"]\n",
    "    }\n",
    "    base_url = \"http://api.weatherapi.com/v1/current.json\"\n",
    "\n",
    "    res = requests.get(base_url, params=params)\n",
    "    data = res.json()\n",
    "    current_data = data['current']\n",
    "\n",
    "    temp_string = f\"{current_data['temp_f']} °F\"\n",
    "    \n",
    "    condition_string = current_data['condition']['text']\n",
    "    location_string = f\"{data['location']['name']}, {data['location']['region']}\"\n",
    "\n",
    "    return f\"Weather in {location_string}: {temp_string}, {condition_string}.\\n\""
   ]
  },
  {
   "cell_type": "markdown",
   "id": "affabd16-2513-4796-8161-03abf641cf1f",
   "metadata": {},
   "source": [
    "### Define base URL of endpoint and model id"
   ]
  },
  {
   "cell_type": "code",
   "execution_count": 3,
   "id": "8a518aa5-df3d-42e9-b597-9d360d087cd4",
   "metadata": {},
   "outputs": [],
   "source": [
    "tt_base_url = os.environ[\"TT_BASE_URL\"]\n",
    "model_id = \"meta-llama/Llama-3.1-8B-Instruct\""
   ]
  },
  {
   "cell_type": "markdown",
   "id": "216d397b-5655-4e19-84f9-a87900fe34da",
   "metadata": {},
   "source": [
    "### Define the agent\n",
    "* The `OpenAILike` class from Agno is used as the client, pointing to the Tenstorrent endpoint\n",
    "* The `fetch_weather` function is passed as an available tool for the agent\n",
    "* Adjust the instructions to guide the agent's response\n",
    "* Setting `markdown=True` returns the agents response in markdown formatting"
   ]
  },
  {
   "cell_type": "code",
   "execution_count": 4,
   "id": "3d6dc4a9-d96d-4396-b27a-5192305160b2",
   "metadata": {},
   "outputs": [],
   "source": [
    "agent = Agent(\n",
    "    model=OpenAILike(id=model_id, api_key=\"null\", base_url=tt_base_url),\n",
    "    tools=[fetch_weather],\n",
    "    instructions=[\n",
    "        \"You are a helpful assistant that gives practical outfit recommendations based on the current weather conditions.\",\n",
    "        \"Your only function available is fetch_weather.  Use your existing knowledge for outfit recommendations.\"\n",
    "    ],\n",
    "    markdown=True\n",
    ")"
   ]
  },
  {
   "cell_type": "markdown",
   "id": "2eabf9e4-5fd4-4589-8116-7f51cbf49117",
   "metadata": {},
   "source": [
    "### Specify the user query and run the agent"
   ]
  },
  {
   "cell_type": "code",
   "execution_count": 5,
   "id": "ac1b9936-c2e0-4242-87e1-686b165bc554",
   "metadata": {},
   "outputs": [
    {
     "data": {
      "text/html": [
       "<pre style=\"white-space:pre;overflow-x:auto;line-height:normal;font-family:Menlo,'DejaVu Sans Mono',consolas,'Courier New',monospace\"><span style=\"color: #008000; text-decoration-color: #008000\">▰▰▰▰▰▰▱</span> Thinking...\n",
       "<span style=\"color: #008080; text-decoration-color: #008080\">┏━ Message ━━━━━━━━━━━━━━━━━━━━━━━━━━━━━━━━━━━━━━━━━━━━━━━━━━━━━━━━━━━━━━━━━━━━━━━━━━━━━━━━━━━━━━━━━━━━━━━━━━━━━━━┓</span>\n",
       "<span style=\"color: #008080; text-decoration-color: #008080\">┃</span>                                                                                                                 <span style=\"color: #008080; text-decoration-color: #008080\">┃</span>\n",
       "<span style=\"color: #008080; text-decoration-color: #008080\">┃</span> <span style=\"color: #008000; text-decoration-color: #008000\">I'm going to Chicago, how should I dress?</span>                                                                       <span style=\"color: #008080; text-decoration-color: #008080\">┃</span>\n",
       "<span style=\"color: #008080; text-decoration-color: #008080\">┃</span>                                                                                                                 <span style=\"color: #008080; text-decoration-color: #008080\">┃</span>\n",
       "<span style=\"color: #008080; text-decoration-color: #008080\">┗━━━━━━━━━━━━━━━━━━━━━━━━━━━━━━━━━━━━━━━━━━━━━━━━━━━━━━━━━━━━━━━━━━━━━━━━━━━━━━━━━━━━━━━━━━━━━━━━━━━━━━━━━━━━━━━━━┛</span>\n",
       "<span style=\"color: #808000; text-decoration-color: #808000\">┏━ Tool Calls ━━━━━━━━━━━━━━━━━━━━━━━━━━━━━━━━━━━━━━━━━━━━━━━━━━━━━━━━━━━━━━━━━━━━━━━━━━━━━━━━━━━━━━━━━━━━━━━━━━━━┓</span>\n",
       "<span style=\"color: #808000; text-decoration-color: #808000\">┃</span>                                                                                                                 <span style=\"color: #808000; text-decoration-color: #808000\">┃</span>\n",
       "<span style=\"color: #808000; text-decoration-color: #808000\">┃</span> • fetch_weather(location=Chicago)                                                                               <span style=\"color: #808000; text-decoration-color: #808000\">┃</span>\n",
       "<span style=\"color: #808000; text-decoration-color: #808000\">┃</span>                                                                                                                 <span style=\"color: #808000; text-decoration-color: #808000\">┃</span>\n",
       "<span style=\"color: #808000; text-decoration-color: #808000\">┗━━━━━━━━━━━━━━━━━━━━━━━━━━━━━━━━━━━━━━━━━━━━━━━━━━━━━━━━━━━━━━━━━━━━━━━━━━━━━━━━━━━━━━━━━━━━━━━━━━━━━━━━━━━━━━━━━┛</span>\n",
       "<span style=\"color: #000080; text-decoration-color: #000080\">┏━ Response (5.9s) ━━━━━━━━━━━━━━━━━━━━━━━━━━━━━━━━━━━━━━━━━━━━━━━━━━━━━━━━━━━━━━━━━━━━━━━━━━━━━━━━━━━━━━━━━━━━━━━┓</span>\n",
       "<span style=\"color: #000080; text-decoration-color: #000080\">┃</span>                                                                                                                 <span style=\"color: #000080; text-decoration-color: #000080\">┃</span>\n",
       "<span style=\"color: #000080; text-decoration-color: #000080\">┃</span> Weather in Chicago, Illinois: 73.9 °F, Partly Cloudy. Based on the weather in Chicago, I would recommend        <span style=\"color: #000080; text-decoration-color: #000080\">┃</span>\n",
       "<span style=\"color: #000080; text-decoration-color: #000080\">┃</span> dressing in a way that is suitable for a partly cloudy day with a temperature of 73.9°F.                        <span style=\"color: #000080; text-decoration-color: #000080\">┃</span>\n",
       "<span style=\"color: #000080; text-decoration-color: #000080\">┃</span>                                                                                                                 <span style=\"color: #000080; text-decoration-color: #000080\">┃</span>\n",
       "<span style=\"color: #000080; text-decoration-color: #000080\">┃</span> Here's a suggested outfit:                                                                                      <span style=\"color: #000080; text-decoration-color: #000080\">┃</span>\n",
       "<span style=\"color: #000080; text-decoration-color: #000080\">┃</span>                                                                                                                 <span style=\"color: #000080; text-decoration-color: #000080\">┃</span>\n",
       "<span style=\"color: #000080; text-decoration-color: #000080\">┃</span> <span style=\"color: #808000; text-decoration-color: #808000; font-weight: bold\"> • </span>A pair of shorts or lightweight pants                                                                        <span style=\"color: #000080; text-decoration-color: #000080\">┃</span>\n",
       "<span style=\"color: #000080; text-decoration-color: #000080\">┃</span> <span style=\"color: #808000; text-decoration-color: #808000; font-weight: bold\"> • </span>A breathable top, such as a t-shirt or a tank top                                                            <span style=\"color: #000080; text-decoration-color: #000080\">┃</span>\n",
       "<span style=\"color: #000080; text-decoration-color: #000080\">┃</span> <span style=\"color: #808000; text-decoration-color: #808000; font-weight: bold\"> • </span>A light jacket or sweater to layer over the top for air-conditioned spaces or cooler evenings                <span style=\"color: #000080; text-decoration-color: #000080\">┃</span>\n",
       "<span style=\"color: #000080; text-decoration-color: #000080\">┃</span> <span style=\"color: #808000; text-decoration-color: #808000; font-weight: bold\"> • </span>Comfortable walking shoes or sneakers                                                                        <span style=\"color: #000080; text-decoration-color: #000080\">┃</span>\n",
       "<span style=\"color: #000080; text-decoration-color: #000080\">┃</span> <span style=\"color: #808000; text-decoration-color: #808000; font-weight: bold\"> • </span>Sunglasses and a hat for sun protection                                                                      <span style=\"color: #000080; text-decoration-color: #000080\">┃</span>\n",
       "<span style=\"color: #000080; text-decoration-color: #000080\">┃</span>                                                                                                                 <span style=\"color: #000080; text-decoration-color: #000080\">┃</span>\n",
       "<span style=\"color: #000080; text-decoration-color: #000080\">┃</span> This outfit should provide a good balance of comfort and style for a day in Chicago.                            <span style=\"color: #000080; text-decoration-color: #000080\">┃</span>\n",
       "<span style=\"color: #000080; text-decoration-color: #000080\">┃</span>                                                                                                                 <span style=\"color: #000080; text-decoration-color: #000080\">┃</span>\n",
       "<span style=\"color: #000080; text-decoration-color: #000080\">┗━━━━━━━━━━━━━━━━━━━━━━━━━━━━━━━━━━━━━━━━━━━━━━━━━━━━━━━━━━━━━━━━━━━━━━━━━━━━━━━━━━━━━━━━━━━━━━━━━━━━━━━━━━━━━━━━━┛</span>\n",
       "</pre>\n"
      ],
      "text/plain": [
       "\u001b[32m▰▰▰▰▰▰▱\u001b[0m Thinking...\n",
       "\u001b[36m┏━\u001b[0m\u001b[36m Message \u001b[0m\u001b[36m━━━━━━━━━━━━━━━━━━━━━━━━━━━━━━━━━━━━━━━━━━━━━━━━━━━━━━━━━━━━━━━━━━━━━━━━━━━━━━━━━━━━━━━━━━━━━━━━━━━━━━\u001b[0m\u001b[36m━┓\u001b[0m\n",
       "\u001b[36m┃\u001b[0m                                                                                                                 \u001b[36m┃\u001b[0m\n",
       "\u001b[36m┃\u001b[0m \u001b[32mI'm going to Chicago, how should I dress?\u001b[0m                                                                       \u001b[36m┃\u001b[0m\n",
       "\u001b[36m┃\u001b[0m                                                                                                                 \u001b[36m┃\u001b[0m\n",
       "\u001b[36m┗━━━━━━━━━━━━━━━━━━━━━━━━━━━━━━━━━━━━━━━━━━━━━━━━━━━━━━━━━━━━━━━━━━━━━━━━━━━━━━━━━━━━━━━━━━━━━━━━━━━━━━━━━━━━━━━━━┛\u001b[0m\n",
       "\u001b[33m┏━\u001b[0m\u001b[33m Tool Calls \u001b[0m\u001b[33m━━━━━━━━━━━━━━━━━━━━━━━━━━━━━━━━━━━━━━━━━━━━━━━━━━━━━━━━━━━━━━━━━━━━━━━━━━━━━━━━━━━━━━━━━━━━━━━━━━━\u001b[0m\u001b[33m━┓\u001b[0m\n",
       "\u001b[33m┃\u001b[0m                                                                                                                 \u001b[33m┃\u001b[0m\n",
       "\u001b[33m┃\u001b[0m • fetch_weather(location=Chicago)                                                                               \u001b[33m┃\u001b[0m\n",
       "\u001b[33m┃\u001b[0m                                                                                                                 \u001b[33m┃\u001b[0m\n",
       "\u001b[33m┗━━━━━━━━━━━━━━━━━━━━━━━━━━━━━━━━━━━━━━━━━━━━━━━━━━━━━━━━━━━━━━━━━━━━━━━━━━━━━━━━━━━━━━━━━━━━━━━━━━━━━━━━━━━━━━━━━┛\u001b[0m\n",
       "\u001b[34m┏━\u001b[0m\u001b[34m Response (5.9s) \u001b[0m\u001b[34m━━━━━━━━━━━━━━━━━━━━━━━━━━━━━━━━━━━━━━━━━━━━━━━━━━━━━━━━━━━━━━━━━━━━━━━━━━━━━━━━━━━━━━━━━━━━━━\u001b[0m\u001b[34m━┓\u001b[0m\n",
       "\u001b[34m┃\u001b[0m                                                                                                                 \u001b[34m┃\u001b[0m\n",
       "\u001b[34m┃\u001b[0m Weather in Chicago, Illinois: 73.9 °F, Partly Cloudy. Based on the weather in Chicago, I would recommend        \u001b[34m┃\u001b[0m\n",
       "\u001b[34m┃\u001b[0m dressing in a way that is suitable for a partly cloudy day with a temperature of 73.9°F.                        \u001b[34m┃\u001b[0m\n",
       "\u001b[34m┃\u001b[0m                                                                                                                 \u001b[34m┃\u001b[0m\n",
       "\u001b[34m┃\u001b[0m Here's a suggested outfit:                                                                                      \u001b[34m┃\u001b[0m\n",
       "\u001b[34m┃\u001b[0m                                                                                                                 \u001b[34m┃\u001b[0m\n",
       "\u001b[34m┃\u001b[0m \u001b[1;33m • \u001b[0mA pair of shorts or lightweight pants                                                                        \u001b[34m┃\u001b[0m\n",
       "\u001b[34m┃\u001b[0m \u001b[1;33m • \u001b[0mA breathable top, such as a t-shirt or a tank top                                                            \u001b[34m┃\u001b[0m\n",
       "\u001b[34m┃\u001b[0m \u001b[1;33m • \u001b[0mA light jacket or sweater to layer over the top for air-conditioned spaces or cooler evenings                \u001b[34m┃\u001b[0m\n",
       "\u001b[34m┃\u001b[0m \u001b[1;33m • \u001b[0mComfortable walking shoes or sneakers                                                                        \u001b[34m┃\u001b[0m\n",
       "\u001b[34m┃\u001b[0m \u001b[1;33m • \u001b[0mSunglasses and a hat for sun protection                                                                      \u001b[34m┃\u001b[0m\n",
       "\u001b[34m┃\u001b[0m                                                                                                                 \u001b[34m┃\u001b[0m\n",
       "\u001b[34m┃\u001b[0m This outfit should provide a good balance of comfort and style for a day in Chicago.                            \u001b[34m┃\u001b[0m\n",
       "\u001b[34m┃\u001b[0m                                                                                                                 \u001b[34m┃\u001b[0m\n",
       "\u001b[34m┗━━━━━━━━━━━━━━━━━━━━━━━━━━━━━━━━━━━━━━━━━━━━━━━━━━━━━━━━━━━━━━━━━━━━━━━━━━━━━━━━━━━━━━━━━━━━━━━━━━━━━━━━━━━━━━━━━┛\u001b[0m\n"
      ]
     },
     "metadata": {},
     "output_type": "display_data"
    },
    {
     "data": {
      "text/html": [
       "<pre style=\"white-space:pre;overflow-x:auto;line-height:normal;font-family:Menlo,'DejaVu Sans Mono',consolas,'Courier New',monospace\"></pre>\n"
      ],
      "text/plain": []
     },
     "metadata": {},
     "output_type": "display_data"
    }
   ],
   "source": [
    "user_query = \"I'm going to Chicago, how should I dress?\"\n",
    "\n",
    "agent.print_response(user_query, stream=True)"
   ]
  }
 ],
 "metadata": {
  "kernelspec": {
   "display_name": "Python 3 (ipykernel)",
   "language": "python",
   "name": "python3"
  },
  "language_info": {
   "codemirror_mode": {
    "name": "ipython",
    "version": 3
   },
   "file_extension": ".py",
   "mimetype": "text/x-python",
   "name": "python",
   "nbconvert_exporter": "python",
   "pygments_lexer": "ipython3",
   "version": "3.12.10"
  }
 },
 "nbformat": 4,
 "nbformat_minor": 5
}

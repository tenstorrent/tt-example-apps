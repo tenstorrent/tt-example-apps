{
 "cells": [
  {
   "cell_type": "markdown",
   "id": "76db5453-4d56-4341-b0f6-96574eace603",
   "metadata": {},
   "source": [
    "# Multi-Agent Agno Team"
   ]
  },
  {
   "cell_type": "code",
   "execution_count": 1,
   "id": "bffd189a-b582-4bf3-b0ab-debd14ce370d",
   "metadata": {},
   "outputs": [],
   "source": [
    "# SPDX-FileCopyrightText: (c) 2025 Tenstorrent AI ULC\n",
    "#\n",
    "# SPDX-License-Identifier: Apache-2.0\n",
    "import os\n",
    "\n",
    "from agno.team import Team\n",
    "from agno.agent import Agent\n",
    "from agno.models.openai import OpenAILike\n",
    "from agno.tools import tool\n",
    "from agno.tools.wikipedia import WikipediaTools\n",
    "import requests"
   ]
  },
  {
   "cell_type": "markdown",
   "id": "bee3e1e6-8998-4012-9ea6-05b59a7b71de",
   "metadata": {},
   "source": [
    "### Define the function to get current weather forecasts"
   ]
  },
  {
   "cell_type": "code",
   "execution_count": 2,
   "id": "2b26ef48-32cf-4daf-beff-c022488a662a",
   "metadata": {},
   "outputs": [],
   "source": [
    "@tool(show_result=True)\n",
    "def fetch_weather(location: str) -> str:\n",
    "    params = {\n",
    "        \"q\": location,\n",
    "        \"key\": os.environ[\"WEATHER_API_KEY\"]\n",
    "    }\n",
    "    base_url = \"http://api.weatherapi.com/v1/current.json\"\n",
    "\n",
    "    res = requests.get(base_url, params=params)\n",
    "    data = res.json()\n",
    "    current_data = data['current']\n",
    "\n",
    "    temp_string = f\"{current_data['temp_f']} °F\"\n",
    "    \n",
    "    condition_string = current_data['condition']['text']\n",
    "    location_string = f\"{data['location']['name']}, {data['location']['region']}\"\n",
    "\n",
    "    return f\"Weather in {location_string}: {temp_string}, {condition_string}.\\n\""
   ]
  },
  {
   "cell_type": "markdown",
   "id": "5df2c48b-e313-41c7-aaab-92d4410ce6ba",
   "metadata": {},
   "source": [
    "### Specify Tenstorrent endpoint and model ID"
   ]
  },
  {
   "cell_type": "code",
   "execution_count": 3,
   "id": "22fcd2b4-490f-4f95-a7ec-649990229977",
   "metadata": {},
   "outputs": [],
   "source": [
    "tt_base_url = os.environ[\"TT_BASE_URL\"]\n",
    "model_id = \"meta-llama/Llama-3.1-8B-Instruct\""
   ]
  },
  {
   "cell_type": "markdown",
   "id": "27e2f596-60c0-4306-a696-a398dd0e47c5",
   "metadata": {},
   "source": [
    "### Defining the agents\n",
    "* Weather Agent: calls `fetch_weather` function\n",
    "* Researcher: searches Wikipedia"
   ]
  },
  {
   "cell_type": "code",
   "execution_count": 4,
   "id": "e73e7624-4d1c-4e9e-8cf0-7cf23b086ce4",
   "metadata": {},
   "outputs": [],
   "source": [
    "weather_agent = Agent(\n",
    "    name=\"Weather Agent\",\n",
    "    role=\"Expert at fetching current weather conditions.\",\n",
    "    model=OpenAILike(id=model_id, api_key=\"null\", base_url=tt_base_url),\n",
    "    tools=[fetch_weather],\n",
    "    instructions=[\n",
    "        \"You are a helpful assistant that fetches current weather conditions for a location.\"\n",
    "    ]\n",
    ")"
   ]
  },
  {
   "cell_type": "code",
   "execution_count": 5,
   "id": "e7029aa0-26cb-4a11-99b3-311d5ce4a9fc",
   "metadata": {},
   "outputs": [],
   "source": [
    "researcher = Agent(\n",
    "    name=\"Researcher\",\n",
    "    role=\"Expert at finding information from Wikipedia\",\n",
    "    instructions=[\n",
    "        \"You are a helpful assistant that searches Wikipedia for information.\",\n",
    "        \"Respond with the information retrieved from Wikipedia.\"\n",
    "    ],\n",
    "    tools=[WikipediaTools()],\n",
    "    model=OpenAILike(id=model_id, api_key=\"null\", base_url=tt_base_url),\n",
    ")"
   ]
  },
  {
   "cell_type": "markdown",
   "id": "4766b0f2-267f-41ae-a2c8-ca27106efe22",
   "metadata": {},
   "source": [
    "### Defining the Team"
   ]
  },
  {
   "cell_type": "code",
   "execution_count": 6,
   "id": "4c303a4d-87fb-4da9-a7c0-203afc7bdf5d",
   "metadata": {},
   "outputs": [],
   "source": [
    "agent_team = Team(\n",
    "    name=\"Support Team\",\n",
    "    mode=\"route\",\n",
    "    model=OpenAILike(id=model_id, api_key=\"null\", base_url=tt_base_url),\n",
    "    members=[weather_agent, researcher],\n",
    "    instructions=[\n",
    "        \"You are the leader of a team of specialized agents.\",\n",
    "        \"When a user asks a question, your job is to choose the most appropriate teammate to handle it based on their skill.\",\n",
    "        \"Do not answer the question yourself.\",\n",
    "        \"Simply forward the task to the agent best suited to respond, and return their answer directly to the user.\"\n",
    "    ],\n",
    "    markdown=True,\n",
    "    show_members_responses=True\n",
    ")"
   ]
  },
  {
   "cell_type": "markdown",
   "id": "9d4fda2d-6da7-48bc-9fd9-40afe99f1c7d",
   "metadata": {},
   "source": [
    "### Task should be given to Researcher"
   ]
  },
  {
   "cell_type": "code",
   "execution_count": 7,
   "id": "aa20bbe9-e00c-41a7-8ce1-b0e87c932928",
   "metadata": {},
   "outputs": [
    {
     "data": {
      "application/vnd.jupyter.widget-view+json": {
       "model_id": "90238f8744b24530a5ed5951fc383101",
       "version_major": 2,
       "version_minor": 0
      },
      "text/plain": [
       "Output()"
      ]
     },
     "metadata": {},
     "output_type": "display_data"
    },
    {
     "data": {
      "text/html": [
       "<pre style=\"white-space:pre;overflow-x:auto;line-height:normal;font-family:Menlo,'DejaVu Sans Mono',consolas,'Courier New',monospace\"><span style=\"color: #000080; text-decoration-color: #000080\">INFO</span> Searching wikipedia for: <span style=\"color: #008080; text-decoration-color: #008080; font-weight: bold\">2025</span> NBA Finals                                                                      \n",
       "</pre>\n"
      ],
      "text/plain": [
       "\u001b[34mINFO\u001b[0m Searching wikipedia for: \u001b[1;36m2025\u001b[0m NBA Finals                                                                      \n"
      ]
     },
     "metadata": {},
     "output_type": "display_data"
    },
    {
     "data": {
      "text/html": [
       "<pre style=\"white-space:pre;overflow-x:auto;line-height:normal;font-family:Menlo,'DejaVu Sans Mono',consolas,'Courier New',monospace\"></pre>\n"
      ],
      "text/plain": []
     },
     "metadata": {},
     "output_type": "display_data"
    }
   ],
   "source": [
    "agent_team.print_response(\"What happened in the 2025 NBA Finals?\", stream=True)"
   ]
  },
  {
   "cell_type": "markdown",
   "id": "dec00a6e-63f6-4665-be40-f11f888b7498",
   "metadata": {},
   "source": [
    "### Task should be given to Weather Agent"
   ]
  },
  {
   "cell_type": "code",
   "execution_count": 8,
   "id": "8bd39f3a-8653-46b7-b0bd-f16f1bf3b101",
   "metadata": {},
   "outputs": [
    {
     "data": {
      "application/vnd.jupyter.widget-view+json": {
       "model_id": "4f7ca590a73640638bae482fe8a3d2b0",
       "version_major": 2,
       "version_minor": 0
      },
      "text/plain": [
       "Output()"
      ]
     },
     "metadata": {},
     "output_type": "display_data"
    },
    {
     "data": {
      "text/html": [
       "<pre style=\"white-space:pre;overflow-x:auto;line-height:normal;font-family:Menlo,'DejaVu Sans Mono',consolas,'Courier New',monospace\"></pre>\n"
      ],
      "text/plain": []
     },
     "metadata": {},
     "output_type": "display_data"
    }
   ],
   "source": [
    "agent_team.print_response(\"What's the weather in Boston?\", stream=True)"
   ]
  }
 ],
 "metadata": {
  "kernelspec": {
   "display_name": "Python 3 (ipykernel)",
   "language": "python",
   "name": "python3"
  },
  "language_info": {
   "codemirror_mode": {
    "name": "ipython",
    "version": 3
   },
   "file_extension": ".py",
   "mimetype": "text/x-python",
   "name": "python",
   "nbconvert_exporter": "python",
   "pygments_lexer": "ipython3",
   "version": "3.12.10"
  },
  "widgets": {
   "application/vnd.jupyter.widget-state+json": {
    "state": {
     "24f226d8c7c7466da0b203de984ce39c": {
      "model_module": "@jupyter-widgets/base",
      "model_module_version": "2.0.0",
      "model_name": "LayoutModel",
      "state": {}
     },
     "4f7ca590a73640638bae482fe8a3d2b0": {
      "model_module": "@jupyter-widgets/output",
      "model_module_version": "1.0.0",
      "model_name": "OutputModel",
      "state": {
       "layout": "IPY_MODEL_24f226d8c7c7466da0b203de984ce39c",
       "outputs": [
        {
         "data": {
          "text/html": "<pre style=\"white-space:pre;overflow-x:auto;line-height:normal;font-family:Menlo,'DejaVu Sans Mono',consolas,'Courier New',monospace\"><span style=\"color: #008080; text-decoration-color: #008080\">┏━ Message ━━━━━━━━━━━━━━━━━━━━━━━━━━━━━━━━━━━━━━━━━━━━━━━━━━━━━━━━━━━━━━━━━━━━━━━━━━━━━━━━━━━━━━━━━━━━━━━━━━━━━━━┓</span>\n<span style=\"color: #008080; text-decoration-color: #008080\">┃</span>                                                                                                                 <span style=\"color: #008080; text-decoration-color: #008080\">┃</span>\n<span style=\"color: #008080; text-decoration-color: #008080\">┃</span> <span style=\"color: #008000; text-decoration-color: #008000\">What's the weather in Boston?</span>                                                                                   <span style=\"color: #008080; text-decoration-color: #008080\">┃</span>\n<span style=\"color: #008080; text-decoration-color: #008080\">┃</span>                                                                                                                 <span style=\"color: #008080; text-decoration-color: #008080\">┃</span>\n<span style=\"color: #008080; text-decoration-color: #008080\">┗━━━━━━━━━━━━━━━━━━━━━━━━━━━━━━━━━━━━━━━━━━━━━━━━━━━━━━━━━━━━━━━━━━━━━━━━━━━━━━━━━━━━━━━━━━━━━━━━━━━━━━━━━━━━━━━━━┛</span>\n<span style=\"color: #808000; text-decoration-color: #808000\">┏━ Weather Agent Tool Calls ━━━━━━━━━━━━━━━━━━━━━━━━━━━━━━━━━━━━━━━━━━━━━━━━━━━━━━━━━━━━━━━━━━━━━━━━━━━━━━━━━━━━━━┓</span>\n<span style=\"color: #808000; text-decoration-color: #808000\">┃</span>                                                                                                                 <span style=\"color: #808000; text-decoration-color: #808000\">┃</span>\n<span style=\"color: #808000; text-decoration-color: #808000\">┃</span> • fetch_weather(location=Boston)                                                                                <span style=\"color: #808000; text-decoration-color: #808000\">┃</span>\n<span style=\"color: #808000; text-decoration-color: #808000\">┃</span>                                                                                                                 <span style=\"color: #808000; text-decoration-color: #808000\">┃</span>\n<span style=\"color: #808000; text-decoration-color: #808000\">┗━━━━━━━━━━━━━━━━━━━━━━━━━━━━━━━━━━━━━━━━━━━━━━━━━━━━━━━━━━━━━━━━━━━━━━━━━━━━━━━━━━━━━━━━━━━━━━━━━━━━━━━━━━━━━━━━━┛</span>\n<span style=\"color: #800080; text-decoration-color: #800080\">┏━ Weather Agent Response ━━━━━━━━━━━━━━━━━━━━━━━━━━━━━━━━━━━━━━━━━━━━━━━━━━━━━━━━━━━━━━━━━━━━━━━━━━━━━━━━━━━━━━━━┓</span>\n<span style=\"color: #800080; text-decoration-color: #800080\">┃</span>                                                                                                                 <span style=\"color: #800080; text-decoration-color: #800080\">┃</span>\n<span style=\"color: #800080; text-decoration-color: #800080\">┃</span> Weather in Boston, Massachusetts: 64.9 °F, Clear. This response provides the current weather conditions in      <span style=\"color: #800080; text-decoration-color: #800080\">┃</span>\n<span style=\"color: #800080; text-decoration-color: #800080\">┃</span> Boston, which is the expected output.                                                                           <span style=\"color: #800080; text-decoration-color: #800080\">┃</span>\n<span style=\"color: #800080; text-decoration-color: #800080\">┃</span>                                                                                                                 <span style=\"color: #800080; text-decoration-color: #800080\">┃</span>\n<span style=\"color: #800080; text-decoration-color: #800080\">┗━━━━━━━━━━━━━━━━━━━━━━━━━━━━━━━━━━━━━━━━━━━━━━━━━━━━━━━━━━━━━━━━━━━━━━━━━━━━━━━━━━━━━━━━━━━━━━━━━━━━━━━━━━━━━━━━━┛</span>\n<span style=\"color: #808000; text-decoration-color: #808000\">┏━ Team Tool Calls ━━━━━━━━━━━━━━━━━━━━━━━━━━━━━━━━━━━━━━━━━━━━━━━━━━━━━━━━━━━━━━━━━━━━━━━━━━━━━━━━━━━━━━━━━━━━━━━┓</span>\n<span style=\"color: #808000; text-decoration-color: #808000\">┃</span>                                                                                                                 <span style=\"color: #808000; text-decoration-color: #808000\">┃</span>\n<span style=\"color: #808000; text-decoration-color: #808000\">┃</span> • forward_task_to_member(member_id=weather-agent, expected_output=current weather conditions in Boston)         <span style=\"color: #808000; text-decoration-color: #808000\">┃</span>\n<span style=\"color: #808000; text-decoration-color: #808000\">┃</span>                                                                                                                 <span style=\"color: #808000; text-decoration-color: #808000\">┃</span>\n<span style=\"color: #808000; text-decoration-color: #808000\">┗━━━━━━━━━━━━━━━━━━━━━━━━━━━━━━━━━━━━━━━━━━━━━━━━━━━━━━━━━━━━━━━━━━━━━━━━━━━━━━━━━━━━━━━━━━━━━━━━━━━━━━━━━━━━━━━━━┛</span>\n<span style=\"color: #000080; text-decoration-color: #000080\">┏━ Response (4.5s) ━━━━━━━━━━━━━━━━━━━━━━━━━━━━━━━━━━━━━━━━━━━━━━━━━━━━━━━━━━━━━━━━━━━━━━━━━━━━━━━━━━━━━━━━━━━━━━━┓</span>\n<span style=\"color: #000080; text-decoration-color: #000080\">┃</span>                                                                                                                 <span style=\"color: #000080; text-decoration-color: #000080\">┃</span>\n<span style=\"color: #000080; text-decoration-color: #000080\">┃</span> Weather in Boston, Massachusetts: 64.9 °F, Clear. This response provides the current weather conditions in      <span style=\"color: #000080; text-decoration-color: #000080\">┃</span>\n<span style=\"color: #000080; text-decoration-color: #000080\">┃</span> Boston, which is the expected output.                                                                           <span style=\"color: #000080; text-decoration-color: #000080\">┃</span>\n<span style=\"color: #000080; text-decoration-color: #000080\">┃</span>                                                                                                                 <span style=\"color: #000080; text-decoration-color: #000080\">┃</span>\n<span style=\"color: #000080; text-decoration-color: #000080\">┗━━━━━━━━━━━━━━━━━━━━━━━━━━━━━━━━━━━━━━━━━━━━━━━━━━━━━━━━━━━━━━━━━━━━━━━━━━━━━━━━━━━━━━━━━━━━━━━━━━━━━━━━━━━━━━━━━┛</span>\n</pre>\n",
          "text/plain": "\u001b[36m┏━\u001b[0m\u001b[36m Message \u001b[0m\u001b[36m━━━━━━━━━━━━━━━━━━━━━━━━━━━━━━━━━━━━━━━━━━━━━━━━━━━━━━━━━━━━━━━━━━━━━━━━━━━━━━━━━━━━━━━━━━━━━━━━━━━━━━\u001b[0m\u001b[36m━┓\u001b[0m\n\u001b[36m┃\u001b[0m                                                                                                                 \u001b[36m┃\u001b[0m\n\u001b[36m┃\u001b[0m \u001b[32mWhat's the weather in Boston?\u001b[0m                                                                                   \u001b[36m┃\u001b[0m\n\u001b[36m┃\u001b[0m                                                                                                                 \u001b[36m┃\u001b[0m\n\u001b[36m┗━━━━━━━━━━━━━━━━━━━━━━━━━━━━━━━━━━━━━━━━━━━━━━━━━━━━━━━━━━━━━━━━━━━━━━━━━━━━━━━━━━━━━━━━━━━━━━━━━━━━━━━━━━━━━━━━━┛\u001b[0m\n\u001b[33m┏━\u001b[0m\u001b[33m Weather Agent Tool Calls \u001b[0m\u001b[33m━━━━━━━━━━━━━━━━━━━━━━━━━━━━━━━━━━━━━━━━━━━━━━━━━━━━━━━━━━━━━━━━━━━━━━━━━━━━━━━━━━━━━\u001b[0m\u001b[33m━┓\u001b[0m\n\u001b[33m┃\u001b[0m                                                                                                                 \u001b[33m┃\u001b[0m\n\u001b[33m┃\u001b[0m • fetch_weather(location=Boston)                                                                                \u001b[33m┃\u001b[0m\n\u001b[33m┃\u001b[0m                                                                                                                 \u001b[33m┃\u001b[0m\n\u001b[33m┗━━━━━━━━━━━━━━━━━━━━━━━━━━━━━━━━━━━━━━━━━━━━━━━━━━━━━━━━━━━━━━━━━━━━━━━━━━━━━━━━━━━━━━━━━━━━━━━━━━━━━━━━━━━━━━━━━┛\u001b[0m\n\u001b[35m┏━\u001b[0m\u001b[35m Weather Agent Response \u001b[0m\u001b[35m━━━━━━━━━━━━━━━━━━━━━━━━━━━━━━━━━━━━━━━━━━━━━━━━━━━━━━━━━━━━━━━━━━━━━━━━━━━━━━━━━━━━━━━\u001b[0m\u001b[35m━┓\u001b[0m\n\u001b[35m┃\u001b[0m                                                                                                                 \u001b[35m┃\u001b[0m\n\u001b[35m┃\u001b[0m Weather in Boston, Massachusetts: 64.9 °F, Clear. This response provides the current weather conditions in      \u001b[35m┃\u001b[0m\n\u001b[35m┃\u001b[0m Boston, which is the expected output.                                                                           \u001b[35m┃\u001b[0m\n\u001b[35m┃\u001b[0m                                                                                                                 \u001b[35m┃\u001b[0m\n\u001b[35m┗━━━━━━━━━━━━━━━━━━━━━━━━━━━━━━━━━━━━━━━━━━━━━━━━━━━━━━━━━━━━━━━━━━━━━━━━━━━━━━━━━━━━━━━━━━━━━━━━━━━━━━━━━━━━━━━━━┛\u001b[0m\n\u001b[33m┏━\u001b[0m\u001b[33m Team Tool Calls \u001b[0m\u001b[33m━━━━━━━━━━━━━━━━━━━━━━━━━━━━━━━━━━━━━━━━━━━━━━━━━━━━━━━━━━━━━━━━━━━━━━━━━━━━━━━━━━━━━━━━━━━━━━\u001b[0m\u001b[33m━┓\u001b[0m\n\u001b[33m┃\u001b[0m                                                                                                                 \u001b[33m┃\u001b[0m\n\u001b[33m┃\u001b[0m • forward_task_to_member(member_id=weather-agent, expected_output=current weather conditions in Boston)         \u001b[33m┃\u001b[0m\n\u001b[33m┃\u001b[0m                                                                                                                 \u001b[33m┃\u001b[0m\n\u001b[33m┗━━━━━━━━━━━━━━━━━━━━━━━━━━━━━━━━━━━━━━━━━━━━━━━━━━━━━━━━━━━━━━━━━━━━━━━━━━━━━━━━━━━━━━━━━━━━━━━━━━━━━━━━━━━━━━━━━┛\u001b[0m\n\u001b[34m┏━\u001b[0m\u001b[34m Response (4.5s) \u001b[0m\u001b[34m━━━━━━━━━━━━━━━━━━━━━━━━━━━━━━━━━━━━━━━━━━━━━━━━━━━━━━━━━━━━━━━━━━━━━━━━━━━━━━━━━━━━━━━━━━━━━━\u001b[0m\u001b[34m━┓\u001b[0m\n\u001b[34m┃\u001b[0m                                                                                                                 \u001b[34m┃\u001b[0m\n\u001b[34m┃\u001b[0m Weather in Boston, Massachusetts: 64.9 °F, Clear. This response provides the current weather conditions in      \u001b[34m┃\u001b[0m\n\u001b[34m┃\u001b[0m Boston, which is the expected output.                                                                           \u001b[34m┃\u001b[0m\n\u001b[34m┃\u001b[0m                                                                                                                 \u001b[34m┃\u001b[0m\n\u001b[34m┗━━━━━━━━━━━━━━━━━━━━━━━━━━━━━━━━━━━━━━━━━━━━━━━━━━━━━━━━━━━━━━━━━━━━━━━━━━━━━━━━━━━━━━━━━━━━━━━━━━━━━━━━━━━━━━━━━┛\u001b[0m\n"
         },
         "metadata": {},
         "output_type": "display_data"
        }
       ]
      }
     },
     "90238f8744b24530a5ed5951fc383101": {
      "model_module": "@jupyter-widgets/output",
      "model_module_version": "1.0.0",
      "model_name": "OutputModel",
      "state": {
       "layout": "IPY_MODEL_c7277f31927a4b3c9b189ca1ed997f0e",
       "outputs": [
        {
         "data": {
          "text/html": "<pre style=\"white-space:pre;overflow-x:auto;line-height:normal;font-family:Menlo,'DejaVu Sans Mono',consolas,'Courier New',monospace\"><span style=\"color: #008080; text-decoration-color: #008080\">┏━ Message ━━━━━━━━━━━━━━━━━━━━━━━━━━━━━━━━━━━━━━━━━━━━━━━━━━━━━━━━━━━━━━━━━━━━━━━━━━━━━━━━━━━━━━━━━━━━━━━━━━━━━━━┓</span>\n<span style=\"color: #008080; text-decoration-color: #008080\">┃</span>                                                                                                                 <span style=\"color: #008080; text-decoration-color: #008080\">┃</span>\n<span style=\"color: #008080; text-decoration-color: #008080\">┃</span> <span style=\"color: #008000; text-decoration-color: #008000\">What happened in the 2025 NBA Finals?</span>                                                                           <span style=\"color: #008080; text-decoration-color: #008080\">┃</span>\n<span style=\"color: #008080; text-decoration-color: #008080\">┃</span>                                                                                                                 <span style=\"color: #008080; text-decoration-color: #008080\">┃</span>\n<span style=\"color: #008080; text-decoration-color: #008080\">┗━━━━━━━━━━━━━━━━━━━━━━━━━━━━━━━━━━━━━━━━━━━━━━━━━━━━━━━━━━━━━━━━━━━━━━━━━━━━━━━━━━━━━━━━━━━━━━━━━━━━━━━━━━━━━━━━━┛</span>\n<span style=\"color: #808000; text-decoration-color: #808000\">┏━ Researcher Tool Calls ━━━━━━━━━━━━━━━━━━━━━━━━━━━━━━━━━━━━━━━━━━━━━━━━━━━━━━━━━━━━━━━━━━━━━━━━━━━━━━━━━━━━━━━━━┓</span>\n<span style=\"color: #808000; text-decoration-color: #808000\">┃</span>                                                                                                                 <span style=\"color: #808000; text-decoration-color: #808000\">┃</span>\n<span style=\"color: #808000; text-decoration-color: #808000\">┃</span> • search_wikipedia(query=2025 NBA Finals)                                                                       <span style=\"color: #808000; text-decoration-color: #808000\">┃</span>\n<span style=\"color: #808000; text-decoration-color: #808000\">┃</span>                                                                                                                 <span style=\"color: #808000; text-decoration-color: #808000\">┃</span>\n<span style=\"color: #808000; text-decoration-color: #808000\">┗━━━━━━━━━━━━━━━━━━━━━━━━━━━━━━━━━━━━━━━━━━━━━━━━━━━━━━━━━━━━━━━━━━━━━━━━━━━━━━━━━━━━━━━━━━━━━━━━━━━━━━━━━━━━━━━━━┛</span>\n<span style=\"color: #800080; text-decoration-color: #800080\">┏━ Researcher Response ━━━━━━━━━━━━━━━━━━━━━━━━━━━━━━━━━━━━━━━━━━━━━━━━━━━━━━━━━━━━━━━━━━━━━━━━━━━━━━━━━━━━━━━━━━━┓</span>\n<span style=\"color: #800080; text-decoration-color: #800080\">┃</span>                                                                                                                 <span style=\"color: #800080; text-decoration-color: #800080\">┃</span>\n<span style=\"color: #800080; text-decoration-color: #800080\">┃</span> The 2025 NBA Finals was the championship series of the National Basketball Association (NBA)'s 2024–25 season   <span style=\"color: #800080; text-decoration-color: #800080\">┃</span>\n<span style=\"color: #800080; text-decoration-color: #800080\">┃</span> and conclusion to the season's playoffs. The best-of-seven series ended with the Western Conference champion    <span style=\"color: #800080; text-decoration-color: #800080\">┃</span>\n<span style=\"color: #800080; text-decoration-color: #800080\">┃</span> Oklahoma City Thunder defeating the Eastern Conference champion Indiana Pacers in seven games. The Thunder's    <span style=\"color: #800080; text-decoration-color: #800080\">┃</span>\n<span style=\"color: #800080; text-decoration-color: #800080\">┃</span> Shai Gilgeous-Alexander was voted the NBA Finals Most Valuable Player (MVP). The series began on June 5 and     <span style=\"color: #800080; text-decoration-color: #800080\">┃</span>\n<span style=\"color: #800080; text-decoration-color: #800080\">┃</span> ended on June 22 with the first NBA Finals Game 7 since 2016.                                                   <span style=\"color: #800080; text-decoration-color: #800080\">┃</span>\n<span style=\"color: #800080; text-decoration-color: #800080\">┃</span>                                                                                                                 <span style=\"color: #800080; text-decoration-color: #800080\">┃</span>\n<span style=\"color: #800080; text-decoration-color: #800080\">┗━━━━━━━━━━━━━━━━━━━━━━━━━━━━━━━━━━━━━━━━━━━━━━━━━━━━━━━━━━━━━━━━━━━━━━━━━━━━━━━━━━━━━━━━━━━━━━━━━━━━━━━━━━━━━━━━━┛</span>\n<span style=\"color: #808000; text-decoration-color: #808000\">┏━ Team Tool Calls ━━━━━━━━━━━━━━━━━━━━━━━━━━━━━━━━━━━━━━━━━━━━━━━━━━━━━━━━━━━━━━━━━━━━━━━━━━━━━━━━━━━━━━━━━━━━━━━┓</span>\n<span style=\"color: #808000; text-decoration-color: #808000\">┃</span>                                                                                                                 <span style=\"color: #808000; text-decoration-color: #808000\">┃</span>\n<span style=\"color: #808000; text-decoration-color: #808000\">┃</span> • forward_task_to_member(member_id=researcher, expected_output=information about the 2025 NBA Finals)           <span style=\"color: #808000; text-decoration-color: #808000\">┃</span>\n<span style=\"color: #808000; text-decoration-color: #808000\">┃</span>                                                                                                                 <span style=\"color: #808000; text-decoration-color: #808000\">┃</span>\n<span style=\"color: #808000; text-decoration-color: #808000\">┗━━━━━━━━━━━━━━━━━━━━━━━━━━━━━━━━━━━━━━━━━━━━━━━━━━━━━━━━━━━━━━━━━━━━━━━━━━━━━━━━━━━━━━━━━━━━━━━━━━━━━━━━━━━━━━━━━┛</span>\n<span style=\"color: #000080; text-decoration-color: #000080\">┏━ Response (9.3s) ━━━━━━━━━━━━━━━━━━━━━━━━━━━━━━━━━━━━━━━━━━━━━━━━━━━━━━━━━━━━━━━━━━━━━━━━━━━━━━━━━━━━━━━━━━━━━━━┓</span>\n<span style=\"color: #000080; text-decoration-color: #000080\">┃</span>                                                                                                                 <span style=\"color: #000080; text-decoration-color: #000080\">┃</span>\n<span style=\"color: #000080; text-decoration-color: #000080\">┃</span> The 2025 NBA Finals was the championship series of the National Basketball Association (NBA)'s 2024–25 season   <span style=\"color: #000080; text-decoration-color: #000080\">┃</span>\n<span style=\"color: #000080; text-decoration-color: #000080\">┃</span> and conclusion to the season's playoffs. The best-of-seven series ended with the Western Conference champion    <span style=\"color: #000080; text-decoration-color: #000080\">┃</span>\n<span style=\"color: #000080; text-decoration-color: #000080\">┃</span> Oklahoma City Thunder defeating the Eastern Conference champion Indiana Pacers in seven games. The Thunder's    <span style=\"color: #000080; text-decoration-color: #000080\">┃</span>\n<span style=\"color: #000080; text-decoration-color: #000080\">┃</span> Shai Gilgeous-Alexander was voted the NBA Finals Most Valuable Player (MVP). The series began on June 5 and     <span style=\"color: #000080; text-decoration-color: #000080\">┃</span>\n<span style=\"color: #000080; text-decoration-color: #000080\">┃</span> ended on June 22 with the first NBA Finals Game 7 since 2016.                                                   <span style=\"color: #000080; text-decoration-color: #000080\">┃</span>\n<span style=\"color: #000080; text-decoration-color: #000080\">┃</span>                                                                                                                 <span style=\"color: #000080; text-decoration-color: #000080\">┃</span>\n<span style=\"color: #000080; text-decoration-color: #000080\">┗━━━━━━━━━━━━━━━━━━━━━━━━━━━━━━━━━━━━━━━━━━━━━━━━━━━━━━━━━━━━━━━━━━━━━━━━━━━━━━━━━━━━━━━━━━━━━━━━━━━━━━━━━━━━━━━━━┛</span>\n</pre>\n",
          "text/plain": "\u001b[36m┏━\u001b[0m\u001b[36m Message \u001b[0m\u001b[36m━━━━━━━━━━━━━━━━━━━━━━━━━━━━━━━━━━━━━━━━━━━━━━━━━━━━━━━━━━━━━━━━━━━━━━━━━━━━━━━━━━━━━━━━━━━━━━━━━━━━━━\u001b[0m\u001b[36m━┓\u001b[0m\n\u001b[36m┃\u001b[0m                                                                                                                 \u001b[36m┃\u001b[0m\n\u001b[36m┃\u001b[0m \u001b[32mWhat happened in the 2025 NBA Finals?\u001b[0m                                                                           \u001b[36m┃\u001b[0m\n\u001b[36m┃\u001b[0m                                                                                                                 \u001b[36m┃\u001b[0m\n\u001b[36m┗━━━━━━━━━━━━━━━━━━━━━━━━━━━━━━━━━━━━━━━━━━━━━━━━━━━━━━━━━━━━━━━━━━━━━━━━━━━━━━━━━━━━━━━━━━━━━━━━━━━━━━━━━━━━━━━━━┛\u001b[0m\n\u001b[33m┏━\u001b[0m\u001b[33m Researcher Tool Calls \u001b[0m\u001b[33m━━━━━━━━━━━━━━━━━━━━━━━━━━━━━━━━━━━━━━━━━━━━━━━━━━━━━━━━━━━━━━━━━━━━━━━━━━━━━━━━━━━━━━━━\u001b[0m\u001b[33m━┓\u001b[0m\n\u001b[33m┃\u001b[0m                                                                                                                 \u001b[33m┃\u001b[0m\n\u001b[33m┃\u001b[0m • search_wikipedia(query=2025 NBA Finals)                                                                       \u001b[33m┃\u001b[0m\n\u001b[33m┃\u001b[0m                                                                                                                 \u001b[33m┃\u001b[0m\n\u001b[33m┗━━━━━━━━━━━━━━━━━━━━━━━━━━━━━━━━━━━━━━━━━━━━━━━━━━━━━━━━━━━━━━━━━━━━━━━━━━━━━━━━━━━━━━━━━━━━━━━━━━━━━━━━━━━━━━━━━┛\u001b[0m\n\u001b[35m┏━\u001b[0m\u001b[35m Researcher Response \u001b[0m\u001b[35m━━━━━━━━━━━━━━━━━━━━━━━━━━━━━━━━━━━━━━━━━━━━━━━━━━━━━━━━━━━━━━━━━━━━━━━━━━━━━━━━━━━━━━━━━━\u001b[0m\u001b[35m━┓\u001b[0m\n\u001b[35m┃\u001b[0m                                                                                                                 \u001b[35m┃\u001b[0m\n\u001b[35m┃\u001b[0m The 2025 NBA Finals was the championship series of the National Basketball Association (NBA)'s 2024–25 season   \u001b[35m┃\u001b[0m\n\u001b[35m┃\u001b[0m and conclusion to the season's playoffs. The best-of-seven series ended with the Western Conference champion    \u001b[35m┃\u001b[0m\n\u001b[35m┃\u001b[0m Oklahoma City Thunder defeating the Eastern Conference champion Indiana Pacers in seven games. The Thunder's    \u001b[35m┃\u001b[0m\n\u001b[35m┃\u001b[0m Shai Gilgeous-Alexander was voted the NBA Finals Most Valuable Player (MVP). The series began on June 5 and     \u001b[35m┃\u001b[0m\n\u001b[35m┃\u001b[0m ended on June 22 with the first NBA Finals Game 7 since 2016.                                                   \u001b[35m┃\u001b[0m\n\u001b[35m┃\u001b[0m                                                                                                                 \u001b[35m┃\u001b[0m\n\u001b[35m┗━━━━━━━━━━━━━━━━━━━━━━━━━━━━━━━━━━━━━━━━━━━━━━━━━━━━━━━━━━━━━━━━━━━━━━━━━━━━━━━━━━━━━━━━━━━━━━━━━━━━━━━━━━━━━━━━━┛\u001b[0m\n\u001b[33m┏━\u001b[0m\u001b[33m Team Tool Calls \u001b[0m\u001b[33m━━━━━━━━━━━━━━━━━━━━━━━━━━━━━━━━━━━━━━━━━━━━━━━━━━━━━━━━━━━━━━━━━━━━━━━━━━━━━━━━━━━━━━━━━━━━━━\u001b[0m\u001b[33m━┓\u001b[0m\n\u001b[33m┃\u001b[0m                                                                                                                 \u001b[33m┃\u001b[0m\n\u001b[33m┃\u001b[0m • forward_task_to_member(member_id=researcher, expected_output=information about the 2025 NBA Finals)           \u001b[33m┃\u001b[0m\n\u001b[33m┃\u001b[0m                                                                                                                 \u001b[33m┃\u001b[0m\n\u001b[33m┗━━━━━━━━━━━━━━━━━━━━━━━━━━━━━━━━━━━━━━━━━━━━━━━━━━━━━━━━━━━━━━━━━━━━━━━━━━━━━━━━━━━━━━━━━━━━━━━━━━━━━━━━━━━━━━━━━┛\u001b[0m\n\u001b[34m┏━\u001b[0m\u001b[34m Response (9.3s) \u001b[0m\u001b[34m━━━━━━━━━━━━━━━━━━━━━━━━━━━━━━━━━━━━━━━━━━━━━━━━━━━━━━━━━━━━━━━━━━━━━━━━━━━━━━━━━━━━━━━━━━━━━━\u001b[0m\u001b[34m━┓\u001b[0m\n\u001b[34m┃\u001b[0m                                                                                                                 \u001b[34m┃\u001b[0m\n\u001b[34m┃\u001b[0m The 2025 NBA Finals was the championship series of the National Basketball Association (NBA)'s 2024–25 season   \u001b[34m┃\u001b[0m\n\u001b[34m┃\u001b[0m and conclusion to the season's playoffs. The best-of-seven series ended with the Western Conference champion    \u001b[34m┃\u001b[0m\n\u001b[34m┃\u001b[0m Oklahoma City Thunder defeating the Eastern Conference champion Indiana Pacers in seven games. The Thunder's    \u001b[34m┃\u001b[0m\n\u001b[34m┃\u001b[0m Shai Gilgeous-Alexander was voted the NBA Finals Most Valuable Player (MVP). The series began on June 5 and     \u001b[34m┃\u001b[0m\n\u001b[34m┃\u001b[0m ended on June 22 with the first NBA Finals Game 7 since 2016.                                                   \u001b[34m┃\u001b[0m\n\u001b[34m┃\u001b[0m                                                                                                                 \u001b[34m┃\u001b[0m\n\u001b[34m┗━━━━━━━━━━━━━━━━━━━━━━━━━━━━━━━━━━━━━━━━━━━━━━━━━━━━━━━━━━━━━━━━━━━━━━━━━━━━━━━━━━━━━━━━━━━━━━━━━━━━━━━━━━━━━━━━━┛\u001b[0m\n"
         },
         "metadata": {},
         "output_type": "display_data"
        }
       ]
      }
     },
     "c7277f31927a4b3c9b189ca1ed997f0e": {
      "model_module": "@jupyter-widgets/base",
      "model_module_version": "2.0.0",
      "model_name": "LayoutModel",
      "state": {}
     }
    },
    "version_major": 2,
    "version_minor": 0
   }
  }
 },
 "nbformat": 4,
 "nbformat_minor": 5
}
